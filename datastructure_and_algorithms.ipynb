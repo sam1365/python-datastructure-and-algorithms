{
 "cells": [
  {
   "cell_type": "markdown",
   "id": "38bcef51-ed21-4c28-9278-9793eaaf919d",
   "metadata": {},
   "source": [
    "# Sata Structure\n",
    "\n",
    "In computer science, a data structure is a data organization and storage format that is usually chosen for efficient access to data. More precisely, a data structure is a collection of data values, the relationships among them, and the functions or operations that can be applied to the data, i.e., it is an algebraic structure about data.\n",
    "\n",
    "resource: [Wikipedia](https://en.wikipedia.org/wiki/Data_structure)"
   ]
  },
  {
   "cell_type": "markdown",
   "id": "2ae5e649-465e-41c3-9ee4-7216d30477f4",
   "metadata": {},
   "source": [
    "# Abstract data type\n",
    "\n",
    "In computer science, an abstract data type (ADT) is a mathematical model for data types, defined by its behavior (semantics) from the point of view of a user of the data, specifically in terms of possible values, possible operations on data of this type, and the behavior of these operations. \n",
    "\n",
    "resource: [Wikipedia](https://en.wikipedia.org/wiki/Abstract_data_type)\n"
   ]
  },
  {
   "cell_type": "markdown",
   "id": "bb0b2a60-88e3-4cfb-a89f-0ce63f0d1718",
   "metadata": {},
   "source": [
    "# Stack\n",
    "In computer science, a stack is an abstract data type that serves as a collection of elements with two main operations:\n",
    "\n",
    "    Push, which adds an element to the collection, and\n",
    "    Pop, which removes the most recently added element.\n",
    "\n",
    "Additionally, a peek operation can, without modifying the stack, return the value of the last element added. The name stack is an analogy to a set of physical items stacked one atop another, such as a stack of plates.\n",
    "\n",
    "The order in which an element added to or removed from a stack is described as last in, first out, referred to by the acronym LIFO."
   ]
  },
  {
   "cell_type": "markdown",
   "id": "3d5c3489-0d22-481b-aac2-22cb3a9e6e9f",
   "metadata": {},
   "source": [
    "## Array Stack example"
   ]
  },
  {
   "cell_type": "code",
   "execution_count": 1,
   "id": "cd366b53-992f-4b27-b585-f4501b909b6c",
   "metadata": {},
   "outputs": [],
   "source": [
    "from stack.array_stack import ArrayStack"
   ]
  },
  {
   "cell_type": "code",
   "execution_count": 2,
   "id": "661332ad-a431-42a6-bed2-19f8795290ed",
   "metadata": {},
   "outputs": [],
   "source": [
    "integer_stack = ArrayStack()"
   ]
  },
  {
   "cell_type": "code",
   "execution_count": 3,
   "id": "4c6018bc-4bde-49c0-a1f0-49c636c5160c",
   "metadata": {},
   "outputs": [
    {
     "data": {
      "text/plain": [
       "2"
      ]
     },
     "execution_count": 3,
     "metadata": {},
     "output_type": "execute_result"
    }
   ],
   "source": [
    "integer_stack.push(1)\n",
    "integer_stack.push(3)\n",
    "len(integer_stack)"
   ]
  },
  {
   "cell_type": "markdown",
   "id": "f337a479-23c3-4f3e-821b-e49d4d380724",
   "metadata": {},
   "source": [
    "# Queue"
   ]
  },
  {
   "cell_type": "markdown",
   "id": "5b235c4d-7732-4d7d-87a8-d427a074fc8e",
   "metadata": {},
   "source": [
    "In computer science, a queue is a collection of entities that are maintained in a sequence and can be modified by the addition of entities at one end of the sequence and the removal of entities from the other end of the sequence. By convention, the end of the sequence at which elements are added is called the back, tail, or rear of the queue, and the end at which elements are removed is called the head or front of the queue, analogously to the words used when people line up to wait for goods or services.\n",
    "\n",
    "The operation of adding an element to the rear of the queue is known as enqueue, and the operation of removing an element from the front is known as dequeue. Other operations may also be allowed, often including a peek or front operation that returns the value of the next element to be dequeued without dequeuing it.\n",
    "\n",
    "The operations of a queue make it a first-in-first-out (FIFO) data structure. In a FIFO data structure, the first element added to the queue will be the first one to be removed. This is equivalent to the requirement that once a new element is added, all elements that were added before have to be removed before the new element can be removed. A queue is an example of a linear data structure, or more abstractly a sequential collection. Queues are common in computer programs, where they are implemented as data structures coupled with access routines, as an abstract data structure or in object-oriented languages as classes.\n",
    "\n",
    "resource: [Queue (abstract data type)\n",
    "](https://en.wikipedia.org/wiki/Queue_(abstract_data_type))\n"
   ]
  },
  {
   "cell_type": "markdown",
   "id": "a5c62758-a244-4b50-85f2-4cdf4da03377",
   "metadata": {},
   "source": [
    "### ArrayQueue"
   ]
  },
  {
   "cell_type": "code",
   "execution_count": 4,
   "id": "036bec43-5174-4b9c-8a36-f07cc565317c",
   "metadata": {},
   "outputs": [],
   "source": [
    "from queue_data_structure.array_queue import ArrayQueue"
   ]
  },
  {
   "cell_type": "code",
   "execution_count": 5,
   "id": "fe799221-d8e7-491f-a9c0-94c6e1337c60",
   "metadata": {},
   "outputs": [],
   "source": [
    "aq = ArrayQueue(initial_capacity=10, shrink_factor=4)"
   ]
  },
  {
   "cell_type": "code",
   "execution_count": 6,
   "id": "b9c8c233-e437-4aa1-a52a-220da54f2b73",
   "metadata": {},
   "outputs": [],
   "source": [
    "aq.enqueue(1)\n",
    "aq.enqueue(2)\n",
    "aq.enqueue(3)\n",
    "aq.enqueue(4)\n",
    "aq.enqueue(5)\n",
    "aq.enqueue(6)\n",
    "aq.enqueue(7)\n",
    "aq.enqueue(8)\n",
    "aq.enqueue(9)\n",
    "aq.enqueue(10)\n",
    "aq.enqueue(11)\n"
   ]
  },
  {
   "cell_type": "code",
   "execution_count": 7,
   "id": "62d48293-6f90-46b3-a652-4ed690235fa4",
   "metadata": {},
   "outputs": [
    {
     "data": {
      "text/plain": [
       "1"
      ]
     },
     "execution_count": 7,
     "metadata": {},
     "output_type": "execute_result"
    }
   ],
   "source": [
    "aq.peek()"
   ]
  },
  {
   "cell_type": "code",
   "execution_count": 8,
   "id": "d8644b72-08cb-4848-8719-a49d617e293c",
   "metadata": {},
   "outputs": [
    {
     "name": "stdout",
     "output_type": "stream",
     "text": [
      "11\n"
     ]
    }
   ],
   "source": [
    "print(len(aq))"
   ]
  },
  {
   "cell_type": "code",
   "execution_count": null,
   "id": "49c05479-9a5f-4b14-b3a9-31c9895c3a90",
   "metadata": {},
   "outputs": [],
   "source": []
  },
  {
   "cell_type": "code",
   "execution_count": 9,
   "id": "20ed2f16-9607-4b54-8f71-4624566e9d27",
   "metadata": {},
   "outputs": [
    {
     "name": "stdout",
     "output_type": "stream",
     "text": [
      "1\n",
      "2\n",
      "3\n",
      "4\n",
      "5\n",
      "6\n",
      "7\n"
     ]
    }
   ],
   "source": [
    "result = aq.dequeue()\n",
    "print(result)\n",
    "result = aq.dequeue()\n",
    "print(result)\n",
    "result = aq.dequeue()\n",
    "print(result)\n",
    "result = aq.dequeue()\n",
    "print(result)\n",
    "result = aq.dequeue()\n",
    "print(result)\n",
    "result = aq.dequeue()\n",
    "print(result)\n",
    "result = aq.dequeue()\n",
    "print(result)"
   ]
  },
  {
   "cell_type": "markdown",
   "id": "adaff992-0a9b-4812-a87e-ee8c1c4acb3c",
   "metadata": {},
   "source": [
    "# Double-ended queue (Deque)"
   ]
  },
  {
   "cell_type": "markdown",
   "id": "2e7f1a35-6878-4254-97ce-65402c552977",
   "metadata": {},
   "source": [
    "In computer science, a double-ended queue (abbreviated to deque, /dɛk/ DEK[1]) is an abstract data type that generalizes a queue, for which elements can be added to or removed from either the front (head) or back (tail)\n",
    "\n",
    "resource: [Double-ended queue](https://en.wikipedia.org/wiki/Double-ended_queue)"
   ]
  },
  {
   "cell_type": "code",
   "execution_count": 11,
   "id": "01b1bced-83cb-4d6a-9072-7054c2e71c21",
   "metadata": {},
   "outputs": [],
   "source": [
    "from deque_data_structure.array_deque import ArrayDeque"
   ]
  },
  {
   "cell_type": "code",
   "execution_count": 12,
   "id": "90cd54eb-1f9c-4f9c-bd60-015fda50e725",
   "metadata": {},
   "outputs": [],
   "source": [
    "adq = ArrayDeque(initial_capacity=10, shrink_factor=4)"
   ]
  },
  {
   "cell_type": "code",
   "execution_count": 32,
   "id": "ed682a10-3deb-4c03-9fc5-5a070288da42",
   "metadata": {},
   "outputs": [],
   "source": [
    "adq.add_front(1)\n",
    "adq.show_deque()"
   ]
  },
  {
   "cell_type": "code",
   "execution_count": 35,
   "id": "df3131e7-3f2d-42cf-9799-c43f19954db4",
   "metadata": {},
   "outputs": [
    {
     "name": "stdout",
     "output_type": "stream",
     "text": [
      "[0]: 1\n",
      "[1]: None\n",
      "[2]: None\n",
      "[3]: None\n",
      "[4]: None\n",
      "[5]: None\n",
      "[6]: 4\n",
      "[7]: 4\n",
      "[8]: 1\n",
      "[9]: 1\n"
     ]
    }
   ],
   "source": [
    "adq.add_front(4)\n",
    "adq.show_deque()"
   ]
  },
  {
   "cell_type": "code",
   "execution_count": null,
   "id": "99efb3cc-ab34-4923-a3de-06623e4313b7",
   "metadata": {},
   "outputs": [],
   "source": [
    "adq.remove_rear()\n",
    "adq.show_deque()"
   ]
  },
  {
   "cell_type": "code",
   "execution_count": 23,
   "id": "a9d3404f-b426-4096-9ee5-90e17d031bc3",
   "metadata": {},
   "outputs": [],
   "source": [
    "adq.add_rear(5)"
   ]
  },
  {
   "cell_type": "code",
   "execution_count": 39,
   "id": "6906a7fd-9cd7-44c1-b631-0c827ee44947",
   "metadata": {},
   "outputs": [
    {
     "name": "stdout",
     "output_type": "stream",
     "text": [
      "[0]: None\n",
      "[1]: None\n",
      "[2]: None\n",
      "[3]: None\n",
      "[4]: None\n",
      "[5]: None\n",
      "[6]: 4\n",
      "[7]: 4\n",
      "[8]: 1\n",
      "[9]: 1\n"
     ]
    }
   ],
   "source": [
    "adq.remove_rear()\n",
    "adq.show_deque()"
   ]
  },
  {
   "cell_type": "code",
   "execution_count": 25,
   "id": "4816a3be-7f7b-42d9-b9c0-508418696633",
   "metadata": {},
   "outputs": [],
   "source": [
    "adq.clear_deque()"
   ]
  },
  {
   "cell_type": "code",
   "execution_count": 26,
   "id": "f0df82ed-ed70-42f8-ad08-a9699f888a4f",
   "metadata": {},
   "outputs": [
    {
     "name": "stdout",
     "output_type": "stream",
     "text": [
      "Empty deque\n",
      "[0]: None\n",
      "[1]: None\n",
      "[2]: None\n",
      "[3]: None\n",
      "[4]: None\n",
      "[5]: None\n",
      "[6]: None\n",
      "[7]: None\n",
      "[8]: None\n",
      "[9]: None\n"
     ]
    }
   ],
   "source": [
    "adq.show_deque()"
   ]
  }
 ],
 "metadata": {
  "kernelspec": {
   "display_name": "Python 3 (ipykernel)",
   "language": "python",
   "name": "python3"
  },
  "language_info": {
   "codemirror_mode": {
    "name": "ipython",
    "version": 3
   },
   "file_extension": ".py",
   "mimetype": "text/x-python",
   "name": "python",
   "nbconvert_exporter": "python",
   "pygments_lexer": "ipython3",
   "version": "3.10.12"
  }
 },
 "nbformat": 4,
 "nbformat_minor": 5
}
