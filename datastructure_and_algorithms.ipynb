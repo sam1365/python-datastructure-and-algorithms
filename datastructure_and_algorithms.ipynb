{
 "cells": [
  {
   "cell_type": "markdown",
   "id": "38bcef51-ed21-4c28-9278-9793eaaf919d",
   "metadata": {},
   "source": [
    "# Sata Structure\n",
    "\n",
    "In computer science, a data structure is a data organization and storage format that is usually chosen for efficient access to data. More precisely, a data structure is a collection of data values, the relationships among them, and the functions or operations that can be applied to the data, i.e., it is an algebraic structure about data.\n",
    "\n",
    "resource: [Wikipedia](https://en.wikipedia.org/wiki/Data_structure)"
   ]
  },
  {
   "cell_type": "markdown",
   "id": "2ae5e649-465e-41c3-9ee4-7216d30477f4",
   "metadata": {},
   "source": [
    "# Abstract data type\n",
    "\n",
    "In computer science, an abstract data type (ADT) is a mathematical model for data types, defined by its behavior (semantics) from the point of view of a user of the data, specifically in terms of possible values, possible operations on data of this type, and the behavior of these operations. \n",
    "\n",
    "resource: [Wikipedia](https://en.wikipedia.org/wiki/Abstract_data_type)\n"
   ]
  },
  {
   "cell_type": "markdown",
   "id": "bb0b2a60-88e3-4cfb-a89f-0ce63f0d1718",
   "metadata": {},
   "source": [
    "# Stack\n",
    "In computer science, a stack is an abstract data type that serves as a collection of elements with two main operations:\n",
    "\n",
    "    Push, which adds an element to the collection, and\n",
    "    Pop, which removes the most recently added element.\n",
    "\n",
    "Additionally, a peek operation can, without modifying the stack, return the value of the last element added. The name stack is an analogy to a set of physical items stacked one atop another, such as a stack of plates.\n",
    "\n",
    "The order in which an element added to or removed from a stack is described as last in, first out, referred to by the acronym LIFO."
   ]
  },
  {
   "cell_type": "markdown",
   "id": "3d5c3489-0d22-481b-aac2-22cb3a9e6e9f",
   "metadata": {},
   "source": [
    "## Array Stack example"
   ]
  },
  {
   "cell_type": "code",
   "execution_count": 1,
   "id": "cd366b53-992f-4b27-b585-f4501b909b6c",
   "metadata": {},
   "outputs": [],
   "source": [
    "from stack.array_stack import ArrayStack"
   ]
  },
  {
   "cell_type": "code",
   "execution_count": 2,
   "id": "661332ad-a431-42a6-bed2-19f8795290ed",
   "metadata": {},
   "outputs": [],
   "source": [
    "integer_stack = ArrayStack()"
   ]
  },
  {
   "cell_type": "code",
   "execution_count": 3,
   "id": "4c6018bc-4bde-49c0-a1f0-49c636c5160c",
   "metadata": {},
   "outputs": [
    {
     "data": {
      "text/plain": [
       "2"
      ]
     },
     "execution_count": 3,
     "metadata": {},
     "output_type": "execute_result"
    }
   ],
   "source": [
    "integer_stack.push(1)\n",
    "integer_stack.push(3)\n",
    "len(integer_stack)"
   ]
  },
  {
   "cell_type": "markdown",
   "id": "f337a479-23c3-4f3e-821b-e49d4d380724",
   "metadata": {},
   "source": [
    "# Queue"
   ]
  },
  {
   "cell_type": "markdown",
   "id": "5b235c4d-7732-4d7d-87a8-d427a074fc8e",
   "metadata": {},
   "source": [
    "In computer science, a queue is a collection of entities that are maintained in a sequence and can be modified by the addition of entities at one end of the sequence and the removal of entities from the other end of the sequence. By convention, the end of the sequence at which elements are added is called the back, tail, or rear of the queue, and the end at which elements are removed is called the head or front of the queue, analogously to the words used when people line up to wait for goods or services.\n",
    "\n",
    "The operation of adding an element to the rear of the queue is known as enqueue, and the operation of removing an element from the front is known as dequeue. Other operations may also be allowed, often including a peek or front operation that returns the value of the next element to be dequeued without dequeuing it.\n",
    "\n",
    "The operations of a queue make it a first-in-first-out (FIFO) data structure. In a FIFO data structure, the first element added to the queue will be the first one to be removed. This is equivalent to the requirement that once a new element is added, all elements that were added before have to be removed before the new element can be removed. A queue is an example of a linear data structure, or more abstractly a sequential collection. Queues are common in computer programs, where they are implemented as data structures coupled with access routines, as an abstract data structure or in object-oriented languages as classes.\n",
    "\n",
    "resource: [Queue (abstract data type)\n",
    "](https://en.wikipedia.org/wiki/Queue_(abstract_data_type))\n"
   ]
  },
  {
   "cell_type": "markdown",
   "id": "a5c62758-a244-4b50-85f2-4cdf4da03377",
   "metadata": {},
   "source": [
    "### ArrayQueue"
   ]
  },
  {
   "cell_type": "code",
   "execution_count": 4,
   "id": "036bec43-5174-4b9c-8a36-f07cc565317c",
   "metadata": {},
   "outputs": [],
   "source": [
    "from queue_data_structure.array_queue import ArrayQueue"
   ]
  },
  {
   "cell_type": "code",
   "execution_count": 5,
   "id": "fe799221-d8e7-491f-a9c0-94c6e1337c60",
   "metadata": {},
   "outputs": [],
   "source": [
    "aq = ArrayQueue(initial_capacity=10, shrink_factor=4)"
   ]
  },
  {
   "cell_type": "code",
   "execution_count": 6,
   "id": "b9c8c233-e437-4aa1-a52a-220da54f2b73",
   "metadata": {},
   "outputs": [],
   "source": [
    "for i in range(11):\n",
    "    aq.enqueue(i)\n",
    "\n"
   ]
  },
  {
   "cell_type": "code",
   "execution_count": 7,
   "id": "62d48293-6f90-46b3-a652-4ed690235fa4",
   "metadata": {},
   "outputs": [
    {
     "data": {
      "text/plain": [
       "0"
      ]
     },
     "execution_count": 7,
     "metadata": {},
     "output_type": "execute_result"
    }
   ],
   "source": [
    "aq.peek()"
   ]
  },
  {
   "cell_type": "code",
   "execution_count": 8,
   "id": "d8644b72-08cb-4848-8719-a49d617e293c",
   "metadata": {},
   "outputs": [
    {
     "name": "stdout",
     "output_type": "stream",
     "text": [
      "11\n"
     ]
    }
   ],
   "source": [
    "print(len(aq))"
   ]
  },
  {
   "cell_type": "code",
   "execution_count": null,
   "id": "49c05479-9a5f-4b14-b3a9-31c9895c3a90",
   "metadata": {},
   "outputs": [],
   "source": []
  },
  {
   "cell_type": "code",
   "execution_count": 9,
   "id": "20ed2f16-9607-4b54-8f71-4624566e9d27",
   "metadata": {},
   "outputs": [
    {
     "name": "stdout",
     "output_type": "stream",
     "text": [
      "0\n"
     ]
    }
   ],
   "source": [
    "result = aq.dequeue()\n",
    "print(result)"
   ]
  },
  {
   "cell_type": "markdown",
   "id": "adaff992-0a9b-4812-a87e-ee8c1c4acb3c",
   "metadata": {},
   "source": [
    "# Double-ended queue (Deque)"
   ]
  },
  {
   "cell_type": "markdown",
   "id": "2e7f1a35-6878-4254-97ce-65402c552977",
   "metadata": {},
   "source": [
    "In computer science, a double-ended queue (abbreviated to deque, /dɛk/ DEK[1]) is an abstract data type that generalizes a queue, for which elements can be added to or removed from either the front (head) or back (tail)\n",
    "\n",
    "resource: [Double-ended queue](https://en.wikipedia.org/wiki/Double-ended_queue)"
   ]
  },
  {
   "cell_type": "code",
   "execution_count": 10,
   "id": "01b1bced-83cb-4d6a-9072-7054c2e71c21",
   "metadata": {},
   "outputs": [],
   "source": [
    "from deque_data_structure.array_deque import ArrayDeque"
   ]
  },
  {
   "cell_type": "code",
   "execution_count": 11,
   "id": "90cd54eb-1f9c-4f9c-bd60-015fda50e725",
   "metadata": {},
   "outputs": [],
   "source": [
    "adq = ArrayDeque(initial_capacity=10, shrink_factor=4)"
   ]
  },
  {
   "cell_type": "code",
   "execution_count": 12,
   "id": "ed682a10-3deb-4c03-9fc5-5a070288da42",
   "metadata": {},
   "outputs": [],
   "source": [
    "adq.add_front(1)"
   ]
  },
  {
   "cell_type": "code",
   "execution_count": 13,
   "id": "df3131e7-3f2d-42cf-9799-c43f19954db4",
   "metadata": {},
   "outputs": [],
   "source": [
    "adq.add_front(4)"
   ]
  },
  {
   "cell_type": "code",
   "execution_count": 14,
   "id": "99efb3cc-ab34-4923-a3de-06623e4313b7",
   "metadata": {},
   "outputs": [
    {
     "data": {
      "text/plain": [
       "1"
      ]
     },
     "execution_count": 14,
     "metadata": {},
     "output_type": "execute_result"
    }
   ],
   "source": [
    "adq.remove_rear()\n"
   ]
  },
  {
   "cell_type": "code",
   "execution_count": 15,
   "id": "a9d3404f-b426-4096-9ee5-90e17d031bc3",
   "metadata": {},
   "outputs": [],
   "source": [
    "adq.add_rear(5)"
   ]
  },
  {
   "cell_type": "code",
   "execution_count": 16,
   "id": "6906a7fd-9cd7-44c1-b631-0c827ee44947",
   "metadata": {},
   "outputs": [
    {
     "data": {
      "text/plain": [
       "4"
      ]
     },
     "execution_count": 16,
     "metadata": {},
     "output_type": "execute_result"
    }
   ],
   "source": [
    "adq.remove_rear()\n"
   ]
  },
  {
   "cell_type": "code",
   "execution_count": 17,
   "id": "4816a3be-7f7b-42d9-b9c0-508418696633",
   "metadata": {},
   "outputs": [],
   "source": [
    "adq.clear_deque()"
   ]
  },
  {
   "cell_type": "markdown",
   "id": "dd8d9587-be05-4261-8ec2-1848305ad8cc",
   "metadata": {},
   "source": [
    "# Linked List"
   ]
  },
  {
   "cell_type": "markdown",
   "id": "616a7ec6-3c51-4649-878d-a28ff05a83d2",
   "metadata": {},
   "source": [
    "In computer science, a linked list is a linear collection of data elements whose order is not given by their physical placement in memory. Instead, each element points to the next. It is a data structure consisting of a collection of nodes which together represent a sequence. In its most basic form, each node contains data, and a reference (in other words, a link) to the next node in the sequence. \n",
    "\n",
    "resource: [Linked list](https://en.wikipedia.org/wiki/Linked_list#:~:text=In%20computer%20science%2C%20a%20linked,which%20together%20represent%20a%20sequence.)"
   ]
  },
  {
   "cell_type": "markdown",
   "id": "35197c76-7c2b-4ce6-8d1e-f5289fa3265e",
   "metadata": {},
   "source": [
    "## Single Linked List Example"
   ]
  },
  {
   "cell_type": "code",
   "execution_count": 18,
   "id": "0d41aff7-b8fa-4441-9044-859afd3a4785",
   "metadata": {},
   "outputs": [],
   "source": [
    "from linked_list_data_structure.single_linked_list import SingleLinkedList"
   ]
  },
  {
   "cell_type": "code",
   "execution_count": 19,
   "id": "d5c225b4-37e2-40cd-9852-c438b348bd0d",
   "metadata": {},
   "outputs": [],
   "source": [
    "sll = SingleLinkedList()"
   ]
  },
  {
   "cell_type": "code",
   "execution_count": 20,
   "id": "b0153db5-515b-4e29-9d4f-7692d8582b18",
   "metadata": {},
   "outputs": [],
   "source": [
    "sll.insert_node_to_head(3)"
   ]
  },
  {
   "cell_type": "code",
   "execution_count": 21,
   "id": "952e4dd7-53ea-468a-8a3f-df631e1f9be0",
   "metadata": {},
   "outputs": [],
   "source": [
    "sll.insert_node_to_head(2)"
   ]
  },
  {
   "cell_type": "code",
   "execution_count": 22,
   "id": "bdc37283-b6a5-477e-b706-7b5dbd1c456b",
   "metadata": {},
   "outputs": [],
   "source": [
    "sll.insert_node_to_head(1)"
   ]
  },
  {
   "cell_type": "code",
   "execution_count": 23,
   "id": "66dd5cd8-c2a2-4c9b-8468-05162e076dfa",
   "metadata": {},
   "outputs": [
    {
     "data": {
      "text/plain": [
       "1"
      ]
     },
     "execution_count": 23,
     "metadata": {},
     "output_type": "execute_result"
    }
   ],
   "source": [
    "sll.remove_head()"
   ]
  },
  {
   "cell_type": "code",
   "execution_count": 24,
   "id": "f06e2965-032e-4dcb-8de8-2fb498429bf2",
   "metadata": {},
   "outputs": [],
   "source": [
    "sll.insert_node_to_tail(11)"
   ]
  },
  {
   "cell_type": "code",
   "execution_count": 25,
   "id": "6d8e4c6f-bcd1-4190-96b7-69f7ef5c5448",
   "metadata": {},
   "outputs": [
    {
     "name": "stdout",
     "output_type": "stream",
     "text": [
      "11\n"
     ]
    }
   ],
   "source": [
    "print(sll.tail())"
   ]
  },
  {
   "cell_type": "code",
   "execution_count": 26,
   "id": "03352d61-c772-4f73-84dd-6aeb3cbe74e5",
   "metadata": {},
   "outputs": [
    {
     "data": {
      "text/plain": [
       "3"
      ]
     },
     "execution_count": 26,
     "metadata": {},
     "output_type": "execute_result"
    }
   ],
   "source": [
    "len(sll)"
   ]
  },
  {
   "cell_type": "markdown",
   "id": "c05e18d7-ea3b-44e8-ae9a-8916cd96c942",
   "metadata": {},
   "source": [
    "### Linked Stack Example"
   ]
  },
  {
   "cell_type": "code",
   "execution_count": 27,
   "id": "d6b3fb70-fbbc-4a81-9d56-51e6e12897a5",
   "metadata": {},
   "outputs": [],
   "source": [
    "from stack.linked_stack import LinkedStack"
   ]
  },
  {
   "cell_type": "code",
   "execution_count": 28,
   "id": "e82eff7c-8b53-4d0a-a189-91fff98f26ba",
   "metadata": {},
   "outputs": [],
   "source": [
    "linked_stack = LinkedStack()"
   ]
  },
  {
   "cell_type": "code",
   "execution_count": 29,
   "id": "ff11dfbd-05f5-4090-ab5f-673b1e380df9",
   "metadata": {},
   "outputs": [],
   "source": [
    "linked_stack.push(17)"
   ]
  },
  {
   "cell_type": "code",
   "execution_count": 30,
   "id": "62193140-7240-4a80-95e9-7396ea243d4e",
   "metadata": {},
   "outputs": [
    {
     "data": {
      "text/plain": [
       "1"
      ]
     },
     "execution_count": 30,
     "metadata": {},
     "output_type": "execute_result"
    }
   ],
   "source": [
    "len(linked_stack)"
   ]
  },
  {
   "cell_type": "code",
   "execution_count": 31,
   "id": "e588a528-904c-4a08-9c7d-83fabcaf5c2b",
   "metadata": {},
   "outputs": [
    {
     "name": "stdout",
     "output_type": "stream",
     "text": [
      "17\n"
     ]
    }
   ],
   "source": [
    "print(linked_stack.peek())"
   ]
  },
  {
   "cell_type": "code",
   "execution_count": 32,
   "id": "9bc3341f-c0b6-4236-ba93-2e21538d9e30",
   "metadata": {},
   "outputs": [
    {
     "name": "stdout",
     "output_type": "stream",
     "text": [
      "17\n"
     ]
    }
   ],
   "source": [
    "print(linked_stack.pop())"
   ]
  },
  {
   "cell_type": "code",
   "execution_count": 33,
   "id": "f17ae999-f5d9-4af4-8d61-c564dc8e58cb",
   "metadata": {},
   "outputs": [
    {
     "data": {
      "text/plain": [
       "0"
      ]
     },
     "execution_count": 33,
     "metadata": {},
     "output_type": "execute_result"
    }
   ],
   "source": [
    "len(linked_stack)"
   ]
  },
  {
   "cell_type": "markdown",
   "id": "450dd6fd-48d8-47a8-91e5-39640081e3be",
   "metadata": {},
   "source": [
    "# Circular Linked List"
   ]
  },
  {
   "cell_type": "markdown",
   "id": "bb547220-5ad3-4dfd-b98d-60eaf6f0f192",
   "metadata": {},
   "source": [
    "It is a single linked list where last node points to the first node."
   ]
  },
  {
   "cell_type": "markdown",
   "id": "a023f2ef-ea9f-49f9-bd49-5107f419e83e",
   "metadata": {},
   "source": [
    "## Circular Linked List Example"
   ]
  },
  {
   "cell_type": "code",
   "execution_count": 34,
   "id": "24b3dfe0-41ce-4da4-9b93-5cd8d2305396",
   "metadata": {},
   "outputs": [],
   "source": [
    "from linked_list_data_structure.circular_linked_list import CircularLinkedList"
   ]
  },
  {
   "cell_type": "code",
   "execution_count": 35,
   "id": "3b34a67e-9cc7-4e87-b8e7-da8a48a3f628",
   "metadata": {},
   "outputs": [],
   "source": [
    "circular_linked_list = CircularLinkedList()"
   ]
  },
  {
   "cell_type": "code",
   "execution_count": 36,
   "id": "2823e089-e57e-4851-9d5d-50ec2c15a99c",
   "metadata": {},
   "outputs": [],
   "source": [
    "for i in range(5):\n",
    "    circular_linked_list.insert_rear(i)"
   ]
  },
  {
   "cell_type": "code",
   "execution_count": 37,
   "id": "559b34bd-ce86-4ed0-a424-318946cb6ace",
   "metadata": {},
   "outputs": [
    {
     "name": "stdout",
     "output_type": "stream",
     "text": [
      "0\n"
     ]
    }
   ],
   "source": [
    "print(circular_linked_list.peek())"
   ]
  },
  {
   "cell_type": "code",
   "execution_count": 38,
   "id": "2c1616f5-5f20-4cab-a896-8d2db8db60f9",
   "metadata": {},
   "outputs": [
    {
     "name": "stdout",
     "output_type": "stream",
     "text": [
      "0\n"
     ]
    }
   ],
   "source": [
    "print(circular_linked_list.remove_head())"
   ]
  },
  {
   "cell_type": "code",
   "execution_count": 39,
   "id": "31f71450-5ac1-4ff6-8100-2140d0e1aa8d",
   "metadata": {},
   "outputs": [
    {
     "name": "stdout",
     "output_type": "stream",
     "text": [
      "1\n"
     ]
    }
   ],
   "source": [
    "print(circular_linked_list.peek())"
   ]
  },
  {
   "cell_type": "markdown",
   "id": "02dd430d-4d3f-48fc-a903-60c6904c1be8",
   "metadata": {},
   "source": [
    "# Doubly Linked List"
   ]
  },
  {
   "cell_type": "markdown",
   "id": "3b78a077-7c88-4481-ba8a-dc172850f1fc",
   "metadata": {},
   "source": [
    "In computer science, a doubly linked list is a linked data structure that consists of a set of sequentially linked records called nodes. Each node contains three fields: two link fields (references to the previous and to the next node in the sequence of nodes) and one data field. The beginning and ending nodes' previous and next links, respectively, point to some kind of terminator, typically a sentinel node or null, to facilitate traversal of the list.\n",
    "\n",
    "resource: [Doubly Linked List](https://en.wikipedia.org/wiki/Doubly_linked_list)"
   ]
  },
  {
   "cell_type": "markdown",
   "id": "fbf25828-ed1a-4106-9c97-a236ef8b9836",
   "metadata": {},
   "source": [
    "## Doubly Linked List Example"
   ]
  },
  {
   "cell_type": "code",
   "execution_count": 40,
   "id": "30ecc279-f10d-4aa1-88ff-dbe7ce6ed1b6",
   "metadata": {},
   "outputs": [],
   "source": [
    "from linked_list_data_structure.doubly_linked_list import DoublyLinkedList"
   ]
  },
  {
   "cell_type": "code",
   "execution_count": 41,
   "id": "f7048553-8b7b-453f-b905-40f37ac35a34",
   "metadata": {},
   "outputs": [],
   "source": [
    "dll = DoublyLinkedList()"
   ]
  },
  {
   "cell_type": "code",
   "execution_count": 42,
   "id": "400d638a-4f84-4a3c-81e7-cd34115e978c",
   "metadata": {},
   "outputs": [],
   "source": [
    "dll.insert_at_beginning(17)\n",
    "dll.insert_at_beginning(13)\n",
    "dll.insert_at_beginning(11)"
   ]
  },
  {
   "cell_type": "code",
   "execution_count": 43,
   "id": "21b90eeb-d329-4ffc-a49d-c51c003f8c11",
   "metadata": {},
   "outputs": [
    {
     "name": "stdout",
     "output_type": "stream",
     "text": [
      "11\n"
     ]
    }
   ],
   "source": [
    "print(dll.remove_at_beginning())"
   ]
  },
  {
   "cell_type": "code",
   "execution_count": 44,
   "id": "b36be5f7-2544-4a0f-8141-c89559be0a75",
   "metadata": {},
   "outputs": [
    {
     "name": "stdout",
     "output_type": "stream",
     "text": [
      "17\n"
     ]
    }
   ],
   "source": [
    "print(dll.remove_at_end())"
   ]
  },
  {
   "cell_type": "code",
   "execution_count": 45,
   "id": "bb602a71-783c-42d2-be61-bf2e7283964f",
   "metadata": {},
   "outputs": [
    {
     "name": "stdout",
     "output_type": "stream",
     "text": [
      "1\n"
     ]
    }
   ],
   "source": [
    "print(len(dll))"
   ]
  },
  {
   "cell_type": "markdown",
   "id": "98283955-b0a3-4855-9e59-c1cbef5750ed",
   "metadata": {},
   "source": [
    "# Tree Data Structure"
   ]
  },
  {
   "cell_type": "markdown",
   "id": "324cc8b6-8cab-43f9-b509-29b385fe675d",
   "metadata": {},
   "source": [
    "In computer science, a tree is a widely used abstract data type that represents a hierarchical tree structure with a set of connected nodes. \n",
    "\n",
    "Each node in the tree can be connected to many children (depending on the type of tree), but must be connected to exactly one parent, except for the root node, which has no parent (i.e., the root node as the top-most node in the tree hierarchy). \n",
    "\n",
    "These constraints mean there are no cycles or \"loops\" (no node can be its own ancestor), and also that each child can be treated like the root node of its own subtree, making recursion a useful technique for tree traversal. \n",
    "\n",
    "In contrast to linear data structures, many trees cannot be represented by relationships between neighboring nodes (parent and children nodes of a node under consideration, if they exist) in a single straight line (called edge or link between two adjacent nodes).\n",
    "\n",
    "resource: [Tree (abstract data type)](https://en.wikipedia.org/wiki/Tree_(abstract_data_type))"
   ]
  },
  {
   "cell_type": "markdown",
   "id": "bc0521b4-940b-4ea8-b927-d75a67602277",
   "metadata": {},
   "source": [
    "## Tree Terminology"
   ]
  },
  {
   "cell_type": "markdown",
   "id": "cbcceeb8-5096-4c93-bc11-9ae8706866c4",
   "metadata": {},
   "source": [
    "### Node: \n",
    "A node is a structure which may contain data and connections to other nodes, sometimes called edges or links.\n",
    "\n",
    "### Internal node(inner node)\n",
    "Any node of a tree that has child nodes.\n",
    "\n",
    "### Sibling nodes\n",
    "Child nodes with the same parent.\n",
    "\n",
    "### Height of a node\n",
    "The length of the longest downward path to a leaf from a node.\n",
    "\n",
    "### Depth of a node\n",
    "The length of the node's path to it's root\n",
    "\n",
    "### Neighbor\n",
    "Parent or child.\n",
    "\n",
    "### Ancestor\n",
    "A node reachable by repeated proceeding from child to parent.\n",
    "\n",
    "### Descendant\n",
    "A node reachable by repeated proceeding from parent to child. Also known as subchild.\n",
    "\n",
    "### Degree\n",
    "For a given node, its number of children. A leaf, by definition, has degree zero.\n",
    "\n",
    "### Degree of tree\n",
    "The degree of a tree is the maximum degree of a node in the tree.\n",
    "\n",
    "### Distance\n",
    "The number of edges along the shortest path between two nodes.\n",
    "\n",
    "### Level \n",
    "The level of a node is the number of edges along the unique path between it and the root node.[4] This is the same as depth.\n",
    "\n",
    "### Width\n",
    "The number of nodes in a level.\n",
    "\n",
    "### Breadth\n",
    "The number of leaves.\n",
    "\n",
    "### Complete tree\n",
    "A tree with every level filled, except the last.\n",
    "\n",
    "### Forest\n",
    "A set of one or more disjoint trees.\n",
    "\n",
    "### Ordered tree\n",
    "A rooted tree in which an ordering is specified for the children of each vertex.\n",
    "\n",
    "### Size of a tree\n",
    "Number of nodes in the tree."
   ]
  },
  {
   "cell_type": "markdown",
   "id": "80cb0ed2-3ef2-47ad-9e0f-fe4abe190b3b",
   "metadata": {},
   "source": [
    "# Binary Tree"
   ]
  },
  {
   "cell_type": "markdown",
   "id": "d8dae613-4b5a-489f-9dca-b2fa41c36a49",
   "metadata": {},
   "source": [
    "In computer science, a binary tree is a tree data structure in which each node has at most two children, referred to as the left child and the right child. That is, it is a k-ary tree with k = 2. A recursive definition using set theory is that a binary tree is a tuple (L, S, R), where L and R are binary trees or the empty set and S is a singleton set containing the root.\n",
    "\n",
    "resource: [Binary tree](https://en.wikipedia.org/wiki/Binary_tree)"
   ]
  }
 ],
 "metadata": {
  "kernelspec": {
   "display_name": "Python 3 (ipykernel)",
   "language": "python",
   "name": "python3"
  },
  "language_info": {
   "codemirror_mode": {
    "name": "ipython",
    "version": 3
   },
   "file_extension": ".py",
   "mimetype": "text/x-python",
   "name": "python",
   "nbconvert_exporter": "python",
   "pygments_lexer": "ipython3",
   "version": "3.10.12"
  }
 },
 "nbformat": 4,
 "nbformat_minor": 5
}
