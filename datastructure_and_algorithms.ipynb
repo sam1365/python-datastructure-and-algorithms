{
 "cells": [
  {
   "cell_type": "markdown",
   "id": "38bcef51-ed21-4c28-9278-9793eaaf919d",
   "metadata": {},
   "source": [
    "# Sata Structure\n",
    "\n",
    "In computer science, a data structure is a data organization and storage format that is usually chosen for efficient access to data. More precisely, a data structure is a collection of data values, the relationships among them, and the functions or operations that can be applied to the data, i.e., it is an algebraic structure about data.\n",
    "\n",
    "resource: [Wikipedia](https://en.wikipedia.org/wiki/Data_structure)"
   ]
  },
  {
   "cell_type": "markdown",
   "id": "2ae5e649-465e-41c3-9ee4-7216d30477f4",
   "metadata": {},
   "source": [
    "# Abstract data type\n",
    "\n",
    "In computer science, an abstract data type (ADT) is a mathematical model for data types, defined by its behavior (semantics) from the point of view of a user of the data, specifically in terms of possible values, possible operations on data of this type, and the behavior of these operations. \n",
    "\n",
    "resource: [Wikipedia](https://en.wikipedia.org/wiki/Abstract_data_type)\n"
   ]
  },
  {
   "cell_type": "markdown",
   "id": "bb0b2a60-88e3-4cfb-a89f-0ce63f0d1718",
   "metadata": {},
   "source": [
    "# Stack\n",
    "In computer science, a stack is an abstract data type that serves as a collection of elements with two main operations:\n",
    "\n",
    "    Push, which adds an element to the collection, and\n",
    "    Pop, which removes the most recently added element.\n",
    "\n",
    "Additionally, a peek operation can, without modifying the stack, return the value of the last element added. The name stack is an analogy to a set of physical items stacked one atop another, such as a stack of plates.\n",
    "\n",
    "The order in which an element added to or removed from a stack is described as last in, first out, referred to by the acronym LIFO."
   ]
  },
  {
   "cell_type": "markdown",
   "id": "3d5c3489-0d22-481b-aac2-22cb3a9e6e9f",
   "metadata": {},
   "source": [
    "## Array Stack example"
   ]
  },
  {
   "cell_type": "code",
   "execution_count": 1,
   "id": "cd366b53-992f-4b27-b585-f4501b909b6c",
   "metadata": {},
   "outputs": [],
   "source": [
    "from stack.array_stack import ArrayStack"
   ]
  },
  {
   "cell_type": "code",
   "execution_count": 2,
   "id": "661332ad-a431-42a6-bed2-19f8795290ed",
   "metadata": {},
   "outputs": [],
   "source": [
    "integer_stack = ArrayStack()"
   ]
  },
  {
   "cell_type": "code",
   "execution_count": 3,
   "id": "4c6018bc-4bde-49c0-a1f0-49c636c5160c",
   "metadata": {},
   "outputs": [
    {
     "data": {
      "text/plain": [
       "2"
      ]
     },
     "execution_count": 3,
     "metadata": {},
     "output_type": "execute_result"
    }
   ],
   "source": [
    "integer_stack.push(1)\n",
    "integer_stack.push(3)\n",
    "len(integer_stack)"
   ]
  },
  {
   "cell_type": "markdown",
   "id": "f337a479-23c3-4f3e-821b-e49d4d380724",
   "metadata": {},
   "source": [
    "# Queue"
   ]
  },
  {
   "cell_type": "markdown",
   "id": "5b235c4d-7732-4d7d-87a8-d427a074fc8e",
   "metadata": {},
   "source": [
    "In computer science, a queue is a collection of entities that are maintained in a sequence and can be modified by the addition of entities at one end of the sequence and the removal of entities from the other end of the sequence. By convention, the end of the sequence at which elements are added is called the back, tail, or rear of the queue, and the end at which elements are removed is called the head or front of the queue, analogously to the words used when people line up to wait for goods or services.\n",
    "\n",
    "The operation of adding an element to the rear of the queue is known as enqueue, and the operation of removing an element from the front is known as dequeue. Other operations may also be allowed, often including a peek or front operation that returns the value of the next element to be dequeued without dequeuing it.\n",
    "\n",
    "The operations of a queue make it a first-in-first-out (FIFO) data structure. In a FIFO data structure, the first element added to the queue will be the first one to be removed. This is equivalent to the requirement that once a new element is added, all elements that were added before have to be removed before the new element can be removed. A queue is an example of a linear data structure, or more abstractly a sequential collection. Queues are common in computer programs, where they are implemented as data structures coupled with access routines, as an abstract data structure or in object-oriented languages as classes.\n",
    "\n",
    "resource: [Queue (abstract data type)\n",
    "](https://en.wikipedia.org/wiki/Queue_(abstract_data_type))\n"
   ]
  },
  {
   "cell_type": "markdown",
   "id": "a5c62758-a244-4b50-85f2-4cdf4da03377",
   "metadata": {},
   "source": [
    "### ArrayQueue"
   ]
  },
  {
   "cell_type": "code",
   "execution_count": 4,
   "id": "036bec43-5174-4b9c-8a36-f07cc565317c",
   "metadata": {},
   "outputs": [],
   "source": [
    "from queue_data_structure.array_queue import ArrayQueue"
   ]
  },
  {
   "cell_type": "code",
   "execution_count": 5,
   "id": "fe799221-d8e7-491f-a9c0-94c6e1337c60",
   "metadata": {},
   "outputs": [],
   "source": [
    "aq = ArrayQueue(initial_capacity=10, shrink_factor=4)"
   ]
  },
  {
   "cell_type": "code",
   "execution_count": 6,
   "id": "b9c8c233-e437-4aa1-a52a-220da54f2b73",
   "metadata": {},
   "outputs": [],
   "source": [
    "aq.enqueue(1)\n",
    "aq.enqueue(2)\n",
    "aq.enqueue(3)\n",
    "aq.enqueue(4)"
   ]
  },
  {
   "cell_type": "code",
   "execution_count": 8,
   "id": "62d48293-6f90-46b3-a652-4ed690235fa4",
   "metadata": {},
   "outputs": [
    {
     "data": {
      "text/plain": [
       "1"
      ]
     },
     "execution_count": 8,
     "metadata": {},
     "output_type": "execute_result"
    }
   ],
   "source": [
    "aq.peek()"
   ]
  },
  {
   "cell_type": "code",
   "execution_count": 9,
   "id": "d8644b72-08cb-4848-8719-a49d617e293c",
   "metadata": {},
   "outputs": [],
   "source": [
    "result = aq.dequeue()"
   ]
  },
  {
   "cell_type": "code",
   "execution_count": 10,
   "id": "1e3eb198-643f-476f-a45a-cb5ba387147b",
   "metadata": {},
   "outputs": [
    {
     "name": "stdout",
     "output_type": "stream",
     "text": [
      "1\n"
     ]
    }
   ],
   "source": [
    "print(result)"
   ]
  },
  {
   "cell_type": "code",
   "execution_count": 11,
   "id": "20ed2f16-9607-4b54-8f71-4624566e9d27",
   "metadata": {},
   "outputs": [
    {
     "name": "stdout",
     "output_type": "stream",
     "text": [
      "2\n"
     ]
    }
   ],
   "source": [
    "result = aq.dequeue()\n",
    "print(result)"
   ]
  },
  {
   "cell_type": "code",
   "execution_count": 12,
   "id": "50e7fafb-e1e1-4af7-be70-e43d0d56a6c5",
   "metadata": {},
   "outputs": [
    {
     "data": {
      "text/plain": [
       "4"
      ]
     },
     "execution_count": 12,
     "metadata": {},
     "output_type": "execute_result"
    }
   ],
   "source": [
    "len(aq)"
   ]
  },
  {
   "cell_type": "code",
   "execution_count": null,
   "id": "a47c83b2-91ac-477b-a613-836964811df2",
   "metadata": {},
   "outputs": [],
   "source": []
  }
 ],
 "metadata": {
  "kernelspec": {
   "display_name": "Python 3 (ipykernel)",
   "language": "python",
   "name": "python3"
  },
  "language_info": {
   "codemirror_mode": {
    "name": "ipython",
    "version": 3
   },
   "file_extension": ".py",
   "mimetype": "text/x-python",
   "name": "python",
   "nbconvert_exporter": "python",
   "pygments_lexer": "ipython3",
   "version": "3.10.12"
  }
 },
 "nbformat": 4,
 "nbformat_minor": 5
}
