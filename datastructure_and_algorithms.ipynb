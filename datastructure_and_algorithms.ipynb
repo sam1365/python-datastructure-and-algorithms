{
 "cells": [
  {
   "cell_type": "markdown",
   "id": "38bcef51-ed21-4c28-9278-9793eaaf919d",
   "metadata": {},
   "source": [
    "# Sata Structure\n",
    "\n",
    "In computer science, a data structure is a data organization and storage format that is usually chosen for efficient access to data. More precisely, a data structure is a collection of data values, the relationships among them, and the functions or operations that can be applied to the data, i.e., it is an algebraic structure about data.\n",
    "\n",
    "resource: [Wikipedia](https://en.wikipedia.org/wiki/Data_structure)"
   ]
  },
  {
   "cell_type": "markdown",
   "id": "2ae5e649-465e-41c3-9ee4-7216d30477f4",
   "metadata": {},
   "source": [
    "# Abstract data type\n",
    "\n",
    "In computer science, an abstract data type (ADT) is a mathematical model for data types, defined by its behavior (semantics) from the point of view of a user of the data, specifically in terms of possible values, possible operations on data of this type, and the behavior of these operations. \n",
    "\n",
    "resource: [Wikipedia](https://en.wikipedia.org/wiki/Abstract_data_type)\n"
   ]
  },
  {
   "cell_type": "markdown",
   "id": "bb0b2a60-88e3-4cfb-a89f-0ce63f0d1718",
   "metadata": {},
   "source": [
    "# Stack\n",
    "In computer science, a stack is an abstract data type that serves as a collection of elements with two main operations:\n",
    "\n",
    "    Push, which adds an element to the collection, and\n",
    "    Pop, which removes the most recently added element.\n",
    "\n",
    "Additionally, a peek operation can, without modifying the stack, return the value of the last element added. The name stack is an analogy to a set of physical items stacked one atop another, such as a stack of plates.\n",
    "\n",
    "The order in which an element added to or removed from a stack is described as last in, first out, referred to by the acronym LIFO."
   ]
  },
  {
   "cell_type": "code",
   "execution_count": 12,
   "id": "cd366b53-992f-4b27-b585-f4501b909b6c",
   "metadata": {},
   "outputs": [],
   "source": [
    "class StackArray:\n",
    "    def __init__(self):\n",
    "        self._stack = []\n",
    "        self.top = None\n",
    "        self.bottom = None\n",
    "\n",
    "    def __len__(self):\n",
    "        return len(self._stack)\n",
    "\n",
    "    def pop(self):\n",
    "        if len(self._stack) == 0:\n",
    "            raise Exception(\"Stack is empty\")\n",
    "        else:\n",
    "            return self._stack.pop()\n",
    "    def push(self, item):\n",
    "        self._stack.append(item)\n"
   ]
  },
  {
   "cell_type": "code",
   "execution_count": 13,
   "id": "661332ad-a431-42a6-bed2-19f8795290ed",
   "metadata": {},
   "outputs": [],
   "source": [
    "integer_stack = StackArray()"
   ]
  },
  {
   "cell_type": "code",
   "execution_count": 14,
   "id": "4c6018bc-4bde-49c0-a1f0-49c636c5160c",
   "metadata": {},
   "outputs": [
    {
     "data": {
      "text/plain": [
       "2"
      ]
     },
     "execution_count": 14,
     "metadata": {},
     "output_type": "execute_result"
    }
   ],
   "source": [
    "integer_stack.push(1)\n",
    "integer_stack.push(3)\n",
    "len(integer_stack)"
   ]
  },
  {
   "cell_type": "code",
   "execution_count": null,
   "id": "2c53e93d-3117-4f48-8f7f-55f43ba7ed97",
   "metadata": {},
   "outputs": [],
   "source": []
  }
 ],
 "metadata": {
  "kernelspec": {
   "display_name": "Python 3 (ipykernel)",
   "language": "python",
   "name": "python3"
  },
  "language_info": {
   "codemirror_mode": {
    "name": "ipython",
    "version": 3
   },
   "file_extension": ".py",
   "mimetype": "text/x-python",
   "name": "python",
   "nbconvert_exporter": "python",
   "pygments_lexer": "ipython3",
   "version": "3.10.12"
  }
 },
 "nbformat": 4,
 "nbformat_minor": 5
}
